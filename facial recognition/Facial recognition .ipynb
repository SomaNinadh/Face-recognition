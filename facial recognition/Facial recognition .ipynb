{
 "cells": [
  {
   "cell_type": "code",
   "execution_count": 1,
   "id": "083c1309",
   "metadata": {},
   "outputs": [],
   "source": [
    "import cv2\n",
    "import numpy as np\n",
    "import face_recognition\n"
   ]
  },
  {
   "cell_type": "code",
   "execution_count": 2,
   "id": "5aa0a5f1",
   "metadata": {},
   "outputs": [
    {
     "name": "stdout",
     "output_type": "stream",
     "text": [
      "[True] [0.36192141]\n"
     ]
    },
    {
     "data": {
      "text/plain": [
       "-1"
      ]
     },
     "execution_count": 2,
     "metadata": {},
     "output_type": "execute_result"
    }
   ],
   "source": [
    "#step1\n",
    "#we are loading the image using face_recognition.load_image_file\n",
    "imgElon = face_recognition.load_image_file(r\"C:\\Users\\91738\\Desktop\\facial recognition\\faces\\elon.jpg\")\n",
    "#we will be converting the image format from bgr to rgb\n",
    "imgElon = cv2.cvtColor(imgElon,cv2.COLOR_BGR2RGB)\n",
    "\n",
    "\n",
    "#for the above images now we will be adding the testing data \n",
    "test1 = face_recognition.load_image_file(r\"C:\\Users\\91738\\Desktop\\facial recognition\\faces\\test1.jpg\")\n",
    "#we will be converting the image format from bgr to rgb\n",
    "test1 = cv2.cvtColor(test1,cv2.COLOR_BGR2RGB)\n",
    "\n",
    "#step2\n",
    "#we will locate the face in the image and draw a rectangle around it \n",
    "faceloc = face_recognition.face_locations(imgElon)[0]\n",
    "encodeElon = face_recognition.face_encodings(imgElon)[0]\n",
    "cv2.rectangle(imgElon,(faceloc[3],faceloc[0]),(faceloc[1],faceloc[2]),(255,0,255),2)\n",
    "#we use cv2.rectangle to draw a rectangle around the face that is located\n",
    "\n",
    "#next we to do the same for test image\n",
    "faceloctest = face_recognition.face_locations(test1)[0]\n",
    "encodeTest1 = face_recognition.face_encodings(test1)[0]\n",
    "cv2.rectangle(test1,(faceloctest[3],faceloctest[0]),(faceloctest[1],faceloctest[2]),(255,0,255),2)\n",
    "\n",
    "\n",
    "#step3\n",
    "#now we compare both the images to check if they are matching\n",
    "results = face_recognition.compare_faces([encodeElon],encodeTest1)\n",
    "faceDist = face_recognition.face_distance([encodeElon],encodeTest1)\n",
    "print(results,faceDist)\n",
    "#we use .puttext to check how accuracy it has\n",
    "\n",
    "cv2.putText(test1, f'{results} {round(faceDist[0],2)}',(50,50),\n",
    "           cv2.FONT_HERSHEY_COMPLEX,1,(0,0,255),2)\n",
    "cv2.imshow('Main Image',imgElon)\n",
    "cv2.imshow('Test Image',test1)\n",
    "cv2.waitKey(0)\n",
    "\n"
   ]
  },
  {
   "cell_type": "code",
   "execution_count": null,
   "id": "2a97432d",
   "metadata": {},
   "outputs": [],
   "source": []
  }
 ],
 "metadata": {
  "kernelspec": {
   "display_name": "Python 3 (ipykernel)",
   "language": "python",
   "name": "python3"
  },
  "language_info": {
   "codemirror_mode": {
    "name": "ipython",
    "version": 3
   },
   "file_extension": ".py",
   "mimetype": "text/x-python",
   "name": "python",
   "nbconvert_exporter": "python",
   "pygments_lexer": "ipython3",
   "version": "3.10.9"
  }
 },
 "nbformat": 4,
 "nbformat_minor": 5
}
